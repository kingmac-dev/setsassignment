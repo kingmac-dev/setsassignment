{
 "cells": [
  {
   "cell_type": "markdown",
   "id": "ee508261-d0a7-4392-85c5-df38ecb77a96",
   "metadata": {},
   "source": [
    "# ASSIGNMENT - SETS"
   ]
  },
  {
   "cell_type": "markdown",
   "id": "74407216-b595-4457-b7df-9d4f24fa9fee",
   "metadata": {},
   "source": [
    "Q1. What is a set in Python?"
   ]
  },
  {
   "cell_type": "markdown",
   "id": "f5e885c4-6a49-48b7-a2ac-a4852c2c742b",
   "metadata": {},
   "source": [
    "A1) A set in Python is a collection of unique, unordered, and unindexed elements. It is one of the four built-in data types in Python used to store collections of data, the other three being List, Tuple, and Dictionary. Each of these data types has different qualities and usage. Sets are written with curly brackets1.\n",
    "\n",
    "Here is an example of a set in Python:"
   ]
  },
  {
   "cell_type": "code",
   "execution_count": 2,
   "id": "475392d8-e9f3-4de9-918e-663a4231638d",
   "metadata": {},
   "outputs": [],
   "source": [
    "s={\"car\",\"bike\",\"truck\"}"
   ]
  },
  {
   "cell_type": "markdown",
   "id": "a04d1caa-1dd0-4294-9f5f-c0f1bd093005",
   "metadata": {},
   "source": [
    "type(s)"
   ]
  },
  {
   "cell_type": "markdown",
   "id": "85cf314a-101b-4ba7-b557-100caa59670a",
   "metadata": {},
   "source": [
    "This code creates a set with three elements: “apple”, “banana”, and “cherry”. Since sets are unordered, the elements may appear in any order when printed.\n",
    "\n",
    "Sets are useful for storing and performing operations on data where the order of elements does not matter, and duplicates are not allowed. For example, you can use sets to find the unique elements in a list or to perform mathematical set operations like union, intersection, and difference."
   ]
  },
  {
   "cell_type": "markdown",
   "id": "8163d298-d31b-4bec-8723-c3098c168971",
   "metadata": {},
   "source": [
    "Q2.How do you create a set in Python?"
   ]
  },
  {
   "cell_type": "markdown",
   "id": "b675dbe0-eeb3-49dd-84be-41bd5944bfb2",
   "metadata": {},
   "source": [
    "A2 ) There are two ways to create a set in Python,which are as follows :-"
   ]
  },
  {
   "cell_type": "markdown",
   "id": "3d4f047c-1b7d-4fe8-a8c9-d97b0f9a5df9",
   "metadata": {},
   "source": [
    "Using curly braces\n",
    "You can also create a set by placing the elements of the set inside curly braces, separated by commas. For example, the following code also creates a set containing the integers 1, 2, 3, and 4:"
   ]
  },
  {
   "cell_type": "code",
   "execution_count": 6,
   "id": "3edfb8ba-218e-450c-9562-f261c45499ae",
   "metadata": {},
   "outputs": [],
   "source": [
    "s1 = {1, 2, 3, 4}"
   ]
  },
  {
   "cell_type": "code",
   "execution_count": 5,
   "id": "4222b658-5131-4ce8-af42-72a17a11ee6d",
   "metadata": {},
   "outputs": [
    {
     "data": {
      "text/plain": [
       "set"
      ]
     },
     "execution_count": 5,
     "metadata": {},
     "output_type": "execute_result"
    }
   ],
   "source": [
    "type(s1)"
   ]
  },
  {
   "cell_type": "markdown",
   "id": "1a7566d6-4196-42a8-9b9f-0e82d36baa12",
   "metadata": {},
   "source": [
    "Using the set() function\n",
    "\n",
    "The set() function takes any iterable as its argument and returns a set containing the unique elements of the iterable. For example, the following code creates a set containing the integers 1, 2, 3, and 4:"
   ]
  },
  {
   "cell_type": "code",
   "execution_count": 7,
   "id": "db45b62c-39e2-4ac2-a176-51f5f9c5f704",
   "metadata": {},
   "outputs": [],
   "source": [
    "s2 = set([1, 2, 3, 4])"
   ]
  },
  {
   "cell_type": "code",
   "execution_count": 8,
   "id": "7bd6e907-48e3-4329-8c23-769a8b887dee",
   "metadata": {},
   "outputs": [
    {
     "name": "stdout",
     "output_type": "stream",
     "text": [
      "{1, 2, 3, 4}\n"
     ]
    }
   ],
   "source": [
    "print(s2)"
   ]
  },
  {
   "cell_type": "code",
   "execution_count": 9,
   "id": "85d89236-1004-40b9-b361-75b50f109a86",
   "metadata": {},
   "outputs": [
    {
     "data": {
      "text/plain": [
       "set"
      ]
     },
     "execution_count": 9,
     "metadata": {},
     "output_type": "execute_result"
    }
   ],
   "source": [
    "type(s2)"
   ]
  },
  {
   "cell_type": "markdown",
   "id": "312a427d-cbd7-4f7c-9883-4b7e41375a25",
   "metadata": {},
   "source": [
    "Q3. How do you add elements to a set in Python?"
   ]
  },
  {
   "cell_type": "markdown",
   "id": "904eeb0e-33b8-4410-b1c9-2965afbfe0ca",
   "metadata": {},
   "source": [
    "A3) There are two ways to add elements to a set in Python."
   ]
  },
  {
   "cell_type": "markdown",
   "id": "4374f2a9-29b3-46bc-a28a-1b0e051fb586",
   "metadata": {},
   "source": [
    "Using the add() method\n",
    "\n",
    "The add() method takes one element as its argument and adds it to the set. For example, the following code adds the integer 5 to the set my_set"
   ]
  },
  {
   "cell_type": "code",
   "execution_count": 10,
   "id": "01e21c2d-99c8-4fd8-914f-ae7e630ba62d",
   "metadata": {},
   "outputs": [],
   "source": [
    "my_set = {1, 2, 3, 4}"
   ]
  },
  {
   "cell_type": "code",
   "execution_count": 11,
   "id": "435c8393-c3d2-43a0-bf0f-f648b9c701e3",
   "metadata": {},
   "outputs": [],
   "source": [
    "my_set.add(5)"
   ]
  },
  {
   "cell_type": "code",
   "execution_count": 12,
   "id": "4e0233f9-2e98-46a6-b209-50f620663ae8",
   "metadata": {},
   "outputs": [
    {
     "data": {
      "text/plain": [
       "{1, 2, 3, 4, 5}"
      ]
     },
     "execution_count": 12,
     "metadata": {},
     "output_type": "execute_result"
    }
   ],
   "source": [
    "my_set"
   ]
  },
  {
   "cell_type": "markdown",
   "id": "b925d8ab-7fe2-4900-97aa-33fb7105274e",
   "metadata": {},
   "source": [
    "Using the update() method\n",
    "\n",
    "The update() method takes any iterable as its argument and adds all of the elements of the iterable to the set. For example, the following code adds the integers 5, 6, and 7 to the set my_set:"
   ]
  },
  {
   "cell_type": "code",
   "execution_count": 13,
   "id": "0e14e685-50fb-4a88-81d1-5e8ccea72d0b",
   "metadata": {},
   "outputs": [],
   "source": [
    "my_set = {1, 2, 3, 4}"
   ]
  },
  {
   "cell_type": "code",
   "execution_count": 14,
   "id": "7f7709d9-309e-4edf-888f-d5fc167947ed",
   "metadata": {},
   "outputs": [],
   "source": [
    "my_set.update([5, 6, 7])"
   ]
  },
  {
   "cell_type": "code",
   "execution_count": 15,
   "id": "6c2e8cd8-fd57-4cce-bdea-ad3283ba68eb",
   "metadata": {},
   "outputs": [
    {
     "data": {
      "text/plain": [
       "{1, 2, 3, 4, 5, 6, 7}"
      ]
     },
     "execution_count": 15,
     "metadata": {},
     "output_type": "execute_result"
    }
   ],
   "source": [
    "my_set"
   ]
  },
  {
   "cell_type": "markdown",
   "id": "d0d30350-afec-482a-94f0-67cc12950b37",
   "metadata": {},
   "source": [
    "Note :- It is important to note that elements cannot be added to a set twice. If you try to add an element to a set that is already in the set, the element will not be added and no error will be raised."
   ]
  },
  {
   "cell_type": "markdown",
   "id": "fb6e0b07-a7e5-4b4b-a12e-90725a8496f2",
   "metadata": {},
   "source": [
    "Q4. How do you remove elements from a set in Python?"
   ]
  },
  {
   "cell_type": "markdown",
   "id": "6b6eb96a-1c5c-478b-a916-c7269e1314ea",
   "metadata": {},
   "source": [
    "A4) There are three ways to remove elements from a set in Python they are as follows"
   ]
  },
  {
   "cell_type": "markdown",
   "id": "fd89246a-05a9-4af9-904e-3394ab43fd6a",
   "metadata": {},
   "source": [
    "Using the remove() method\n",
    "The remove() method takes one element as its argument and removes it from the set. If the element is not in the set, a ValueError exception will be raised. For example, the following code removes the integer 5 from the set ."
   ]
  },
  {
   "cell_type": "code",
   "execution_count": 16,
   "id": "8eb9f35d-2a35-4373-8c4e-72900956629d",
   "metadata": {},
   "outputs": [],
   "source": [
    "my_set = {1, 2, 3, 4, 5}"
   ]
  },
  {
   "cell_type": "code",
   "execution_count": 17,
   "id": "2237559e-0975-446a-92b2-6149a3d66170",
   "metadata": {},
   "outputs": [],
   "source": [
    "my_set.remove(5)"
   ]
  },
  {
   "cell_type": "code",
   "execution_count": 18,
   "id": "624a8098-47b5-4cd6-8d4d-53f2b7f99107",
   "metadata": {},
   "outputs": [
    {
     "data": {
      "text/plain": [
       "{1, 2, 3, 4}"
      ]
     },
     "execution_count": 18,
     "metadata": {},
     "output_type": "execute_result"
    }
   ],
   "source": [
    "my_set"
   ]
  },
  {
   "cell_type": "markdown",
   "id": "a67ce72f-8791-4036-baf9-e259597ccc8c",
   "metadata": {},
   "source": [
    "Using the discard() method\n",
    "The discard() method takes one element as its argument and removes it from the set. If the element is not in the set, no error will be raised. For example, the following code removes the integer 5 from the set my_set, but no error is raised because 5 is not in the set:"
   ]
  },
  {
   "cell_type": "code",
   "execution_count": 19,
   "id": "726b7308-310c-4304-b288-58dd229594a6",
   "metadata": {},
   "outputs": [],
   "source": [
    "my_set = {1, 2, 3, 4, 5}"
   ]
  },
  {
   "cell_type": "code",
   "execution_count": 20,
   "id": "7ceecbc0-21c4-4c97-8a2e-b172d1e2e557",
   "metadata": {},
   "outputs": [],
   "source": [
    "my_set.discard(5)"
   ]
  },
  {
   "cell_type": "code",
   "execution_count": 21,
   "id": "6589b8fd-9ddd-419e-8fff-986dadbcad3e",
   "metadata": {},
   "outputs": [
    {
     "name": "stdout",
     "output_type": "stream",
     "text": [
      "{1, 2, 3, 4}\n"
     ]
    }
   ],
   "source": [
    "print(my_set)"
   ]
  },
  {
   "cell_type": "markdown",
   "id": "a3199f51-6d69-4fbf-83af-0b3d421359e0",
   "metadata": {},
   "source": [
    "It is important to note that the remove() method will raise an error if the element is not in the set, while the discard() method will not raise an error."
   ]
  },
  {
   "cell_type": "markdown",
   "id": "98489a8f-fd9d-417d-95e5-14f378637737",
   "metadata": {},
   "source": [
    "The pop() method removes and returns an arbitrary element from the set. If the set is empty, a KeyError exception will be raised. For example, the following code removes an arbitrary element from the set my_set and prints it to the console:"
   ]
  },
  {
   "cell_type": "code",
   "execution_count": 23,
   "id": "68089893-f7c6-4de6-b998-93af3a84f741",
   "metadata": {},
   "outputs": [],
   "source": [
    "my_set = {1, 2, 3, 4, 5}"
   ]
  },
  {
   "cell_type": "code",
   "execution_count": 24,
   "id": "3e6d8f23-5c72-4478-8317-2c2495eef569",
   "metadata": {},
   "outputs": [],
   "source": [
    "element = my_set.pop()"
   ]
  },
  {
   "cell_type": "code",
   "execution_count": 25,
   "id": "e87cb0e6-ec04-4dfa-9081-c18acece1e39",
   "metadata": {},
   "outputs": [
    {
     "name": "stdout",
     "output_type": "stream",
     "text": [
      "1\n"
     ]
    }
   ],
   "source": [
    "print(element)"
   ]
  },
  {
   "cell_type": "markdown",
   "id": "940aa5e7-0c72-4358-a72e-4d0e8b0c2a97",
   "metadata": {},
   "source": [
    "As you can see, the element 1 was removed from the set and printed to the console.\n",
    "\n",
    "It is important to note that the pop() method will remove and return an arbitrary element from the set. This means that you cannot be sure which element will be removed. If you need to remove a specific element from the set, you should use the remove() or discard() method."
   ]
  },
  {
   "cell_type": "markdown",
   "id": "9115388e-62e3-4131-9533-d098af65fae4",
   "metadata": {},
   "source": [
    "Q5. How do you get the length of a set in Python?"
   ]
  },
  {
   "cell_type": "markdown",
   "id": "d8ff6188-efd0-4039-b873-06c935d1763c",
   "metadata": {},
   "source": [
    "A5 ) We can get the length of a set in Python using the len() function. The len() function takes a single argument, which is the set you want to get the length of, and returns the number of elements in the set. Here is an example:"
   ]
  },
  {
   "cell_type": "code",
   "execution_count": 26,
   "id": "f2b4b088-3113-45a8-8a79-70e96d247999",
   "metadata": {},
   "outputs": [],
   "source": [
    "s5 ={1,2,3,4,5,6,7,8,9,10}"
   ]
  },
  {
   "cell_type": "code",
   "execution_count": 28,
   "id": "4be25ead-f73b-4c65-a1e7-0aa5026dd776",
   "metadata": {},
   "outputs": [
    {
     "name": "stdout",
     "output_type": "stream",
     "text": [
      "10\n"
     ]
    }
   ],
   "source": [
    "print(len(s5))"
   ]
  },
  {
   "cell_type": "markdown",
   "id": "3e6e7b69-04f3-48d8-9e63-5b9289b7f146",
   "metadata": {},
   "source": [
    "This code creates a set with three elements, then uses the len() function to get the number of elements in the set. The resulting output is 10, indicating that the set has three elements."
   ]
  },
  {
   "cell_type": "code",
   "execution_count": null,
   "id": "155a20ee-3298-4476-ac04-88f8256a6ecb",
   "metadata": {},
   "outputs": [],
   "source": []
  }
 ],
 "metadata": {
  "kernelspec": {
   "display_name": "Python 3 (ipykernel)",
   "language": "python",
   "name": "python3"
  },
  "language_info": {
   "codemirror_mode": {
    "name": "ipython",
    "version": 3
   },
   "file_extension": ".py",
   "mimetype": "text/x-python",
   "name": "python",
   "nbconvert_exporter": "python",
   "pygments_lexer": "ipython3",
   "version": "3.10.8"
  }
 },
 "nbformat": 4,
 "nbformat_minor": 5
}
